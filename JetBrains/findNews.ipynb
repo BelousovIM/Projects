{
  "nbformat": 4,
  "nbformat_minor": 0,
  "metadata": {
    "colab": {
      "name": "findNews.ipynb",
      "provenance": [],
      "collapsed_sections": [],
      "machine_shape": "hm",
      "include_colab_link": true
    },
    "kernelspec": {
      "display_name": "Python 3",
      "name": "python3"
    },
    "language_info": {
      "name": "python"
    },
    "widgets": {
      "application/vnd.jupyter.widget-state+json": {
        "46244ab535894aa6b68eaa70d26399de": {
          "model_module": "@jupyter-widgets/controls",
          "model_name": "HBoxModel",
          "state": {
            "_view_name": "HBoxView",
            "_dom_classes": [],
            "_model_name": "HBoxModel",
            "_view_module": "@jupyter-widgets/controls",
            "_model_module_version": "1.5.0",
            "_view_count": null,
            "_view_module_version": "1.5.0",
            "box_style": "",
            "layout": "IPY_MODEL_337494e26ac742ae932a2de1660efb07",
            "_model_module": "@jupyter-widgets/controls",
            "children": [
              "IPY_MODEL_6cd9cbcc93bf4177aedf7b550e36d56d",
              "IPY_MODEL_ecc9083f51754f6bb2985073b18ff640"
            ]
          }
        },
        "337494e26ac742ae932a2de1660efb07": {
          "model_module": "@jupyter-widgets/base",
          "model_name": "LayoutModel",
          "state": {
            "_view_name": "LayoutView",
            "grid_template_rows": null,
            "right": null,
            "justify_content": null,
            "_view_module": "@jupyter-widgets/base",
            "overflow": null,
            "_model_module_version": "1.2.0",
            "_view_count": null,
            "flex_flow": null,
            "width": null,
            "min_width": null,
            "border": null,
            "align_items": null,
            "bottom": null,
            "_model_module": "@jupyter-widgets/base",
            "top": null,
            "grid_column": null,
            "overflow_y": null,
            "overflow_x": null,
            "grid_auto_flow": null,
            "grid_area": null,
            "grid_template_columns": null,
            "flex": null,
            "_model_name": "LayoutModel",
            "justify_items": null,
            "grid_row": null,
            "max_height": null,
            "align_content": null,
            "visibility": null,
            "align_self": null,
            "height": null,
            "min_height": null,
            "padding": null,
            "grid_auto_rows": null,
            "grid_gap": null,
            "max_width": null,
            "order": null,
            "_view_module_version": "1.2.0",
            "grid_template_areas": null,
            "object_position": null,
            "object_fit": null,
            "grid_auto_columns": null,
            "margin": null,
            "display": null,
            "left": null
          }
        },
        "6cd9cbcc93bf4177aedf7b550e36d56d": {
          "model_module": "@jupyter-widgets/controls",
          "model_name": "FloatProgressModel",
          "state": {
            "_view_name": "ProgressView",
            "style": "IPY_MODEL_5e63a85962024bdf849d3a3ae3027e5d",
            "_dom_classes": [],
            "description": "",
            "_model_name": "FloatProgressModel",
            "bar_style": "success",
            "max": 1,
            "_view_module": "@jupyter-widgets/controls",
            "_model_module_version": "1.5.0",
            "value": 1,
            "_view_count": null,
            "_view_module_version": "1.5.0",
            "orientation": "horizontal",
            "min": 0,
            "description_tooltip": null,
            "_model_module": "@jupyter-widgets/controls",
            "layout": "IPY_MODEL_ab27bce009cd45d2a721844489236d20"
          }
        },
        "ecc9083f51754f6bb2985073b18ff640": {
          "model_module": "@jupyter-widgets/controls",
          "model_name": "HTMLModel",
          "state": {
            "_view_name": "HTMLView",
            "style": "IPY_MODEL_f4debbc74b2247acbafbe7c5556ce82e",
            "_dom_classes": [],
            "description": "",
            "_model_name": "HTMLModel",
            "placeholder": "​",
            "_view_module": "@jupyter-widgets/controls",
            "_model_module_version": "1.5.0",
            "value": " 256/? [03:36&lt;00:00,  1.18it/s]",
            "_view_count": null,
            "_view_module_version": "1.5.0",
            "description_tooltip": null,
            "_model_module": "@jupyter-widgets/controls",
            "layout": "IPY_MODEL_338c7090a0ee4ae0b6041e9e10b28b2d"
          }
        },
        "5e63a85962024bdf849d3a3ae3027e5d": {
          "model_module": "@jupyter-widgets/controls",
          "model_name": "ProgressStyleModel",
          "state": {
            "_view_name": "StyleView",
            "_model_name": "ProgressStyleModel",
            "description_width": "initial",
            "_view_module": "@jupyter-widgets/base",
            "_model_module_version": "1.5.0",
            "_view_count": null,
            "_view_module_version": "1.2.0",
            "bar_color": null,
            "_model_module": "@jupyter-widgets/controls"
          }
        },
        "ab27bce009cd45d2a721844489236d20": {
          "model_module": "@jupyter-widgets/base",
          "model_name": "LayoutModel",
          "state": {
            "_view_name": "LayoutView",
            "grid_template_rows": null,
            "right": null,
            "justify_content": null,
            "_view_module": "@jupyter-widgets/base",
            "overflow": null,
            "_model_module_version": "1.2.0",
            "_view_count": null,
            "flex_flow": null,
            "width": null,
            "min_width": null,
            "border": null,
            "align_items": null,
            "bottom": null,
            "_model_module": "@jupyter-widgets/base",
            "top": null,
            "grid_column": null,
            "overflow_y": null,
            "overflow_x": null,
            "grid_auto_flow": null,
            "grid_area": null,
            "grid_template_columns": null,
            "flex": null,
            "_model_name": "LayoutModel",
            "justify_items": null,
            "grid_row": null,
            "max_height": null,
            "align_content": null,
            "visibility": null,
            "align_self": null,
            "height": null,
            "min_height": null,
            "padding": null,
            "grid_auto_rows": null,
            "grid_gap": null,
            "max_width": null,
            "order": null,
            "_view_module_version": "1.2.0",
            "grid_template_areas": null,
            "object_position": null,
            "object_fit": null,
            "grid_auto_columns": null,
            "margin": null,
            "display": null,
            "left": null
          }
        },
        "f4debbc74b2247acbafbe7c5556ce82e": {
          "model_module": "@jupyter-widgets/controls",
          "model_name": "DescriptionStyleModel",
          "state": {
            "_view_name": "StyleView",
            "_model_name": "DescriptionStyleModel",
            "description_width": "",
            "_view_module": "@jupyter-widgets/base",
            "_model_module_version": "1.5.0",
            "_view_count": null,
            "_view_module_version": "1.2.0",
            "_model_module": "@jupyter-widgets/controls"
          }
        },
        "338c7090a0ee4ae0b6041e9e10b28b2d": {
          "model_module": "@jupyter-widgets/base",
          "model_name": "LayoutModel",
          "state": {
            "_view_name": "LayoutView",
            "grid_template_rows": null,
            "right": null,
            "justify_content": null,
            "_view_module": "@jupyter-widgets/base",
            "overflow": null,
            "_model_module_version": "1.2.0",
            "_view_count": null,
            "flex_flow": null,
            "width": null,
            "min_width": null,
            "border": null,
            "align_items": null,
            "bottom": null,
            "_model_module": "@jupyter-widgets/base",
            "top": null,
            "grid_column": null,
            "overflow_y": null,
            "overflow_x": null,
            "grid_auto_flow": null,
            "grid_area": null,
            "grid_template_columns": null,
            "flex": null,
            "_model_name": "LayoutModel",
            "justify_items": null,
            "grid_row": null,
            "max_height": null,
            "align_content": null,
            "visibility": null,
            "align_self": null,
            "height": null,
            "min_height": null,
            "padding": null,
            "grid_auto_rows": null,
            "grid_gap": null,
            "max_width": null,
            "order": null,
            "_view_module_version": "1.2.0",
            "grid_template_areas": null,
            "object_position": null,
            "object_fit": null,
            "grid_auto_columns": null,
            "margin": null,
            "display": null,
            "left": null
          }
        }
      }
    }
  },
  "cells": [
    {
      "cell_type": "markdown",
      "metadata": {
        "id": "view-in-github",
        "colab_type": "text"
      },
      "source": [
        "<a href=\"https://colab.research.google.com/github/BelousovIM/Projects/blob/main/findNews.ipynb\" target=\"_parent\"><img src=\"https://colab.research.google.com/assets/colab-badge.svg\" alt=\"Open In Colab\"/></a>"
      ]
    },
    {
      "cell_type": "markdown",
      "metadata": {
        "id": "USRXLIXrbaAX"
      },
      "source": [
        "В этой задаче вам предлагается научиться по заголовку искать статью в некотором заданном множестве."
      ]
    },
    {
      "cell_type": "code",
      "metadata": {
        "id": "RywJ11m-TerR"
      },
      "source": [
        "!pip install corus \n",
        "!wget https://github.com/yutkin/Lenta.Ru-News-Dataset/releases/download/v1.0/lenta-ru-news.csv.gz\n",
        "!pip install pymorphy2\n",
        "!pip install --upgrade sklearn-pandas"
      ],
      "execution_count": null,
      "outputs": []
    },
    {
      "cell_type": "code",
      "metadata": {
        "id": "lq1oQ4m-TiZT"
      },
      "source": [
        "import random\n",
        "from corus import load_lenta\n",
        "from sklearn.neighbors import KNeighborsClassifier, VALID_METRICS\n",
        "import numpy as np\n",
        "from tqdm import tqdm_notebook, tqdm\n",
        "import warnings\n",
        "warnings.filterwarnings(\"ignore\")\n",
        "from sklearn.feature_extraction.text import TfidfVectorizer\n",
        "from scipy.sparse import hstack\n",
        "\n",
        "from gensim.models.doc2vec import Doc2Vec, TaggedDocument\n",
        "from gensim.test.utils import common_texts"
      ],
      "execution_count": 2,
      "outputs": []
    },
    {
      "cell_type": "code",
      "metadata": {
        "colab": {
          "base_uri": "https://localhost:8080/"
        },
        "id": "7RlM3aVyKxOT",
        "outputId": "c5ab7e97-737c-4bd3-989b-b4e3d2ba12a9"
      },
      "source": [
        "import pymorphy2\n",
        "\n",
        "from functools import lru_cache\n",
        "\n",
        "import re\n",
        "import nltk\n",
        "nltk.download('stopwords')\n",
        "from nltk.corpus import stopwords\n",
        "\n",
        "import multiprocessing\n",
        "from sklearn import utils"
      ],
      "execution_count": 3,
      "outputs": [
        {
          "output_type": "stream",
          "text": [
            "[nltk_data] Downloading package stopwords to /root/nltk_data...\n",
            "[nltk_data]   Unzipping corpora/stopwords.zip.\n"
          ],
          "name": "stdout"
        }
      ]
    },
    {
      "cell_type": "markdown",
      "metadata": {
        "id": "hq6Fx1AHa8S-"
      },
      "source": [
        "Для простоты возьмём первые 10000 новостей"
      ]
    },
    {
      "cell_type": "code",
      "metadata": {
        "id": "sJSCQ-tOTltm"
      },
      "source": [
        "path = 'lenta-ru-news.csv.gz'\n",
        "corpus = []\n",
        "requests = []\n",
        "for i, record in zip(range(10000), load_lenta(path)):\n",
        "    corpus.append((i, record.text))\n",
        "    requests.append((i, record.title))"
      ],
      "execution_count": 5,
      "outputs": []
    },
    {
      "cell_type": "markdown",
      "metadata": {
        "id": "krTm1G-citWF"
      },
      "source": [
        "Теперь необходимо реализовать класс, отвечающий за поиск новостей. Возможным подходом будет выбрать какое-нибудь векторное представление текста (bag-of-words, tf-idf, word2vec и т.п.) и метрику расстояния (косинусное, Евклидово, манхэттенское и т.п.), а потом сортировать новости по расстоянию до заголовка. Однако, вы можете реализовывать любые ваши идеи."
      ]
    },
    {
      "cell_type": "code",
      "metadata": {
        "id": "0Q9jwxpDKLVk"
      },
      "source": [
        "class Preprocesser:\n",
        "    def __init__(self):\n",
        "        self.bad_symbol_regexp = re.compile('[^а-я ^a-z ^0-9]')  \n",
        "        morph = pymorphy2.MorphAnalyzer()\n",
        "        @lru_cache(maxsize=10 ** 6)\n",
        "        def lru_lemmatizer(word):\n",
        "            return morph.parse(word)[0].normal_form\n",
        "        self.lemmatizer = lru_lemmatizer\n",
        "        self.stopwords = stopwords\n",
        "        \n",
        "    def __call__(self, text):\n",
        "        text = text.lower()\n",
        "        text = re.sub(self.bad_symbol_regexp, ' ', text)\n",
        "        lemmas = [\n",
        "            self.lemmatizer(token)\n",
        "            for token in text.split()\n",
        "        ]\n",
        "        \n",
        "        return ' '.join(lemmas)"
      ],
      "execution_count": 13,
      "outputs": []
    },
    {
      "cell_type": "code",
      "metadata": {
        "id": "LaDjYsNgUIOo"
      },
      "source": [
        "class Database:\n",
        "    def __init__(self, corpus):\n",
        "        self.corpus_data = list(zip(*corpus))[1]\n",
        "        self.preprocess_text = Preprocesser()\n",
        "        self.corpus_data = list(map(self.preprocess_text, self.corpus_data))\n",
        "        \n",
        "        self.tfidf = TfidfVectorizer(\n",
        "            max_features=300000,\n",
        "            ngram_range=(2, 6), \n",
        "            analyzer=\"char_wb\",\n",
        "            # stop_words=stopwords.words('russian'),\n",
        "        )\n",
        "\n",
        "        self.X_train = self.tfidf.fit_transform(self.corpus_data)\n",
        "        self.model = KNeighborsClassifier(metric='cosine')\n",
        "        self.model.fit(self.X_train, np.zeros(self.X_train.shape[0]))\n",
        "\n",
        "    def find(self, request, k=10):\n",
        "        \"\"\"\n",
        "            Этот метод должен принимать на вход текст заголовка и возвращать\n",
        "            для него k самых вероятных новости.\n",
        "            В качестве возвращаемого значения ожидается numpy-массив размера k, \n",
        "            содержащий id новостей в порядке уменьшения релевантности\n",
        "        \"\"\"\n",
        "        request_transform = self.tfidf.transform((self.preprocess_text(request), ))\n",
        "        # request_transform = self.tfidf.transform((request, ))\n",
        "        ind = self.model.kneighbors(request_transform, k , False).ravel()\n",
        "        return ind"
      ],
      "execution_count": 11,
      "outputs": []
    },
    {
      "cell_type": "code",
      "metadata": {
        "id": "N1pQCfW_b1xo",
        "colab": {
          "base_uri": "https://localhost:8080/"
        },
        "outputId": "a880c5df-b996-4185-8616-6852b7e782ac"
      },
      "source": [
        "%%time\n",
        "\n",
        "database = Database(corpus)"
      ],
      "execution_count": 14,
      "outputs": [
        {
          "output_type": "stream",
          "text": [
            "CPU times: user 1min 9s, sys: 334 ms, total: 1min 9s\n",
            "Wall time: 1min 9s\n"
          ],
          "name": "stdout"
        }
      ]
    },
    {
      "cell_type": "markdown",
      "metadata": {
        "id": "eIQeZTtNh-7k"
      },
      "source": [
        "Проверим глазами разумность ранжирования новостей на отдельном примере "
      ]
    },
    {
      "cell_type": "code",
      "metadata": {
        "id": "IwbkWn-aiBeb",
        "colab": {
          "base_uri": "https://localhost:8080/"
        },
        "outputId": "9f7ce530-54b9-474c-87e6-2499f17397b0"
      },
      "source": [
        "request_id, request_text = requests[809]\n",
        "print(f'For request (id={request_id}): {request_text}')\n",
        "print('Responses are:')\n",
        "for i, response_id in enumerate(database.find(request_text)):\n",
        "    print(f'{i}    id={response_id}\\t{corpus[response_id][1]}')"
      ],
      "execution_count": 15,
      "outputs": [
        {
          "output_type": "stream",
          "text": [
            "For request (id=809): Названы любимые супергеройские фильмы россиян\n",
            "Responses are:\n",
            "0    id=1283\tВ восьмом выпуске серии комиксов «Часы Судного дня» от DC Comics появился президент России Владимир Путин, готовый развязать войну с США из-за гибели россиян по вине американского супергероя Огненного Шторма. Выпуск опубликован на сайте readcomiconline. В комиксе Путин выступает на Красной площади перед собором Василия Блаженного рядом с танком и группой военных. Возле главы государства также стоят русские супергерои. Он обвиняет США в агрессии и сообщает о начале войны. Речь президента прерывает Супермен, который спускается с небес и пытается убедить Путина, что Огненный Шторм не виноват в инциденте, а пострадавших людей (они оказались случайно превращены им в стекло) можно вернуть к жизни. С неба за происходящим наблюдает Бэтмен, который по радиосвязи предупреждает Супермена не принимать ничью сторону в этом конфликте. Затем на площади появляется Огненный Шторм, по которому открывают огонь военные, задевая остекленевших россиян. Супермен пытается остановить конфликт, однако ему мешают русские супергерои. Герой обезвреживает противников, после чего переворачивают танк. Результатом драки становится вызванный Огненным Штормом взрыв, который стирает Красную площадь и все вокруг. Путин при этом успевает покинуть место происшествия. Ранее сообщалось, что в том же выпуске нашли жертву химатаки «русской марионетки Асада».\n",
            "1    id=2943\tКомпания Sony Pictures запланировала выпустить два фильма по вселенной супергероя Человека-паука в 2020 году. Об этом сообщает издание Variety. Названия лент не раскрываются. Первая лента выйдет на экраны 10 июля 2020 года, премьера второй запланирована на 2 октября. По информации издания, неназванные проекты — фильм об антагонисте-вампире Морбиусе, которого сыграет Джаред Лето, и сиквел антигеройского боевика «Веном» с Томом Харди в главной роли. Sony Pictures еще не выпустила официальный анонс кинолент. Фильм «Веном» Рубена Флейшера появился на российских экранах 4 октября. За первые сутки лента собрала в отечественном прокате более 183 миллионов рублей, обогнав по этому показателю картину «Человек-паук: Возвращение домой». После релиза картины поклонники превратили Венома и персонажа Харди в гей-пару.\n",
            "2    id=4178\tАвтор комиксов Marvel Стэн Ли вместе с дочерью Джей Си создал нового супергероя перед своей смертью. Об этом Джей Си рассказала порталу TMZ. «Я упрашивала его сделать персонажа вместе со мной всю мою жизнь. Мы работали над героем по имени Человек-грязь (Dirt Man)», — призналась женщина. По ее словам, Ли помог ей развить историю персонажа, и последние правки писатель предложил накануне смерти. Подробности о новом герое держатся в секрете, однако Джей Си намерена развивать этот проект в надежде, что когда-нибудь по нему снимут фильм. Последним персонажем, которого Стэн Ли представил публике перед смертью, стала Сокровище (Jewel), китайская поп-певица, обладающая суперсилами. Она получила сверхспособности после таинственного инцидента с зачарованным браслетом своей бабушки. Прототипом героини стала китайская певица G.E.M., пишет The Star. Стэн Ли скончался 12 ноября. Ему было 95 лет. За свою карьеру писатель создал таких супергероев, как Человек-паук, Халк, Железный человек, а также членов Людей Икс и Фантастической четверки.\n",
            "3    id=809\tКомпания «Яндекс» проанализировала поисковые запросы россиян и определила, какие фильмы были наиболее популярны в 2018 году. Об этом говорится в исследовании, поступившем в редакцию «Ленты.ру» в понедельник, 10 декабря. В топ-10 вошли пять экранизаций комиксов. Первое место заняла картина братьев Энтони и Джо Руссо «Мстители: Война бесконечности», второе — «Дэдпул 2» режиссера Дэвида Литча. На третьем месте оказалась российская спортивная драма «Движение вверх», снятая Антоном Мегердичевым. В список самых интересных для россиян фильмов про супергероев также вошли «Веном» (четвертое место), «Черная пантера» (седьмое место) и «Человек-муравей и Оса» (девятое место). Кроме того, среди наиболее популярных картин оказались «Мир юрского периода 2» (пятое место), «Монстры на каникулах 3: Море зовет» (шестое место), «Мег: Монстр глубины» (восьмое место) и «Лед» (десятое место). «Яндекс» изучил информацию о запросах за период с 1 января по 19 ноября 2018 года. Вышедший 8 декабря трейлер четвертых «Мстителей» набрал 289 миллионов просмотров за сутки и побил исторический рекорд. Фильм выйдет в российский прокат 25 апреля. \n",
            "4    id=6609\tИздание IndieWire составило рейтинг лучших хорроров в истории кинематографа. В список вошли 100 фильмов. Первую строчку занял фильм Стэнли Кубрика «Сияние». Картина снята по роману Стивена Кинга. Главные роли в фильме исполнили Джек Николсон и Шелли Дювал. По сюжету писатель вместе с женой и сыном приезжает в огромный отель, пустующий в зимний период, и устраивается туда на работу смотрителем. После этого в отеле начинают происходить странные и пугающие события. В первую десятку величайших фильмов ужасов также попали ленты «Техасская резня бензопилой», «Ребенок Розмари», «Изгоняющий дьявола», «Хэллоуин» 1978 года, «Психо», «Глаза без лица», «Нечто», «Чужой» и «Ночь живых мертвецов». В сотне лучших есть и один советский фильм — «Вий» Константина Ершова и Георгия Кропачева. В марте издание NME объявило самый страшный фильм ужасов в истории. Им стал испанский фильм «Уиджи: Проклятие Вероники».\n",
            "5    id=8581\tРежиссер «Стражей Галактики» Джеймс Ганн, уволенный студией Marvel за педофильские шутки восьмилетней давности, нашел новую работу. Он займется супергеройским фильмом для компании DC, передает The Hollywood Reporter. Отмечается, что кинематографист напишет сценарий для сиквела суперзлодейского боевика «Отряд Самоубийц». На данной стадии у проекта еще нет режиссера, и не исключено, что им также станет Ганн. 21 июля стало известно, что Джеймса Ганна, который должен был работать над третьей частью «Стражей Галактики» уволили из-за скандала с провокационными постами в Twitter, которые он публиковал примерно с 2008 по 2011 год. В них кинематографист шутил на темы педофилии, изнасилований и СПИДа. Позже актеры фильма выступили в поддержку уволенного режиссера. «Стражи Галактики» и «Стражи Галактики 2» вышли в 2014 и 2017 годах соответственно. Премьера третьей части была запланирована на 2020 год, однако работу над ней приостановили после скандала с Ганном. «Отряд самоубийц» вышел в 2016 году. Главные роли в ленте исполнили Джаред Лето, Марго Робби, Уилл Смит, Кара Делевинь и Джей Кортни.\n",
            "6    id=214\tЖитель России в среднем тратит 13 часов в месяц на просмотр фильмов и сериалов. Об этом сообщает РИА Новости со ссылкой на результаты исследования компании Must. «К примеру, в США этот показатель чуть ниже — 11 часов, а лидируют в рейтинге французы — они посвятили в этом году примерно 14,5 часов кинематографу», — говорится в работе. Наиболее популярным по просмотрам фильмом в России в этом году стал супегеройский боевик «Мстители: Война бесконечности». Среди сериалов первое место заняла криминальная драма «Во все тяжкие». В мировом рейтинге наиболее популярными фильмами стали «Бегущий по лезвию 2049» и «Три билборда на границе Эббинга, Миссури». «Тайна Коко» оказался самым просматриваемым мультфильмом. Хотя он вышел еще в 2017 году, с января его посмотрели более 4,5 процента всех пользователей в мире. Эксперты учитывали не только картины, просмотренные дома, но и походы в кинотеатр. Исследование проводилось на основе данных за 2018 год. 5 декабря Американский институт кинематографии опубликовал список десяти лучших сериалов 2018 года. В рейтинг вошли такие шоу, как «Американцы», «Убийство Джанни Версаче: Американская история преступлений», «Атланта», «Барри», «Лучше звоните Солу», «Метод Комински», «Удивительная миссис Мейзел», «Поза», «Наследники», «Это мы».\n",
            "7    id=518\tПользователей сети удивил новый постер к фильму про ежа Соника, так как снимок сделан с перспективы гениталий синего супергероя. Об этом сообщает A.V. Club. Вопросы вызвал и тот факт, что у ежа человеческие ноги. Картинка была опубликована в Twitter-аккаунте пользователя Wario64.  Другой постер также вызвал бурную реакцию в соцсетях. Как отмечает Inverse.com, на нем изобразили «очеловеченного» ежа с хорошо развитой мускулатурой. Его сравнили с «мультяшкой, который занимается кроссфитом», а также с «горячим фурри» —  так называют антропоморфных животных и субкультуру, в которой люди интересуются очеловеченными зверьками. Пользователи начали шутить над тизерами к фильму про синего ежа.  «Смотрите, что будет, если вы осветлите лицо Соника на плакате».  «Эксклюзив! Раскрыты новые детали постера к фильму».  «Моя интерпретация нового постера с Соником. Обсуждайте».  «Новый постер к фильму выглядит отлично».  «Ноги Соника на постере выглядят так, будто он носит штаны для йоги». В 2014 году стало известно о том, что компания Sony Pictures совместно с японской Marza Animation Planet снимут фильм про Соника. Соник — главный персонаж серии видеоигр Sonic the Hedgehog, комиксов и мультфильмов. Созданный художником Наото Осимой, программистом Юдзи Накой и дизайнером Хирокадзу Ясухарой синий еж является талисманом компании Sega.\n",
            "8    id=2358\tВ сети появился короткометражный фильм «Префект». Видео опубликовано на YouTube-канале «Кинопоиск». Режиссер фильма и бывший шеф-редактор образовательного портала «Арзамас» Олег Коронный снял политическую сатиру о прогрессивном молодом человеке, которого назначали на пост префекта одного из московских округов. «Это фильм о хипстерах, возомнивших, что они знают, как правильно жить окружающим. Это фильм о бухгалтерах и пресс-секретарях, которые в гробу видали урбанистику и велодорожки. Это фильм о водителях и телохранителях, занимающих ключевые должности в правительстве. Это наше прошлое, настоящее и будущее», — рассказал о фильме Коронный в интервью для «Афиша Daily». Сценарий комедии победил в конкурсе Медиалаборатории «Яндекс.Такси». В картине снялись Филипп Горенштейн, Вера Панфилова, Валентин Самохин, Павел Деревянко.\n",
            "9    id=4434\tЖитель американского штата Северная Каролина пять лет играл в лотерею, вписывая в билеты свои любимые числа, и сорвал большой куш. Об этом сообщает информационный портал UPI. Бенджамин Синклер (Benjamin Sinclair) из города Уинстон-Сейлем признался, что покупает билеты лотереи Powerball только перед действительно крупным джекпотом. Каждый раз он использует одни и те же числа: 08-12-13-19-27, которые называет «особенными». Комбинация любимых номеров принесла американцу выигрыш в один миллион долларов (67,7 миллиона рублей). Мужчина решил забрать куш сразу с уплатой налога, а не получить целиком в течение нескольких лет. В итоге сумма составила около 705 тысяч долларов (47,7 миллиона рублей). 12 ноября сообщалось об американце из штата Массачусетс, вписавшем в лотерейный билет номера ключевых игроков любимой бейсбольной команды. Эти числа принесли ему сто тысяч долларов (6,7 миллиона рублей).\n"
          ],
          "name": "stdout"
        }
      ]
    },
    {
      "cell_type": "markdown",
      "metadata": {
        "id": "7m4YonL7iISP"
      },
      "source": [
        "Теперь оценим качество ранжирования по метрике Recall@k "
      ]
    },
    {
      "cell_type": "code",
      "metadata": {
        "id": "n3Zx0Bg4iNmX"
      },
      "source": [
        "def get_recall_at_k(targets, predictions, k):\n",
        "    targets_mask = np.repeat(np.expand_dims(targets, 1), k, axis=1)\n",
        "    return (predictions[:, :k] == targets_mask).sum() / len(targets)"
      ],
      "execution_count": 16,
      "outputs": []
    },
    {
      "cell_type": "code",
      "metadata": {
        "id": "Z0gPC6TOiOiV"
      },
      "source": [
        "test_size = 256\n",
        "test_k = 20"
      ],
      "execution_count": 17,
      "outputs": []
    },
    {
      "cell_type": "code",
      "metadata": {
        "id": "eK-jYapfiURd"
      },
      "source": [
        "test_requests = random.sample(requests, test_size)"
      ],
      "execution_count": 18,
      "outputs": []
    },
    {
      "cell_type": "code",
      "metadata": {
        "id": "JiuoA7MhiVhB",
        "colab": {
          "base_uri": "https://localhost:8080/",
          "height": 101,
          "referenced_widgets": [
            "46244ab535894aa6b68eaa70d26399de",
            "337494e26ac742ae932a2de1660efb07",
            "6cd9cbcc93bf4177aedf7b550e36d56d",
            "ecc9083f51754f6bb2985073b18ff640",
            "5e63a85962024bdf849d3a3ae3027e5d",
            "ab27bce009cd45d2a721844489236d20",
            "f4debbc74b2247acbafbe7c5556ce82e",
            "338c7090a0ee4ae0b6041e9e10b28b2d"
          ]
        },
        "outputId": "44d20311-c156-491b-b988-115d4b35396e"
      },
      "source": [
        "%%time\n",
        "targets = np.zeros(test_size, dtype=np.int32)\n",
        "predictions = np.zeros((test_size, test_k), dtype=np.int32)\n",
        "for i, (request_id, request_text) in tqdm_notebook(enumerate(test_requests)):\n",
        "    targets[i] = request_id\n",
        "    predictions[i] = database.find(request_text, k=test_k)"
      ],
      "execution_count": 21,
      "outputs": [
        {
          "output_type": "display_data",
          "data": {
            "application/vnd.jupyter.widget-view+json": {
              "model_id": "46244ab535894aa6b68eaa70d26399de",
              "version_minor": 0,
              "version_major": 2
            },
            "text/plain": [
              "HBox(children=(FloatProgress(value=1.0, bar_style='info', max=1.0), HTML(value='')))"
            ]
          },
          "metadata": {
            "tags": []
          }
        },
        {
          "output_type": "stream",
          "text": [
            "\n",
            "CPU times: user 3min 37s, sys: 637 ms, total: 3min 37s\n",
            "Wall time: 3min 36s\n"
          ],
          "name": "stdout"
        }
      ]
    },
    {
      "cell_type": "code",
      "metadata": {
        "id": "dPEfHKhEiWbL",
        "colab": {
          "base_uri": "https://localhost:8080/"
        },
        "outputId": "c3282824-a4f3-4858-a678-9ae73321a4b6"
      },
      "source": [
        "for k in [1, 3, 5, 10, 20]:\n",
        "    print(f'Recall@{k}:\\t{get_recall_at_k(targets, predictions, k):.3f}')"
      ],
      "execution_count": 22,
      "outputs": [
        {
          "output_type": "stream",
          "text": [
            "Recall@1:\t0.488\n",
            "Recall@3:\t0.652\n",
            "Recall@5:\t0.750\n",
            "Recall@10:\t0.812\n",
            "Recall@20:\t0.883\n"
          ],
          "name": "stdout"
        }
      ]
    }
  ]
}