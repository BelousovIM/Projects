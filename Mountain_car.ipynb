{
  "nbformat": 4,
  "nbformat_minor": 0,
  "metadata": {
    "accelerator": "GPU",
    "colab": {
      "name": "Mountain-car.ipynb",
      "provenance": [],
      "collapsed_sections": [],
      "machine_shape": "hm",
      "authorship_tag": "ABX9TyPCd0zg4mEdAyADRD1RskZE",
      "include_colab_link": true
    },
    "kernelspec": {
      "display_name": "Python 3",
      "name": "python3"
    },
    "language_info": {
      "name": "python"
    },
    "widgets": {
      "application/vnd.jupyter.widget-state+json": {
        "5facd63b575941efade656c5d1605565": {
          "model_module": "@jupyter-widgets/controls",
          "model_name": "HBoxModel",
          "state": {
            "_view_name": "HBoxView",
            "_dom_classes": [],
            "_model_name": "HBoxModel",
            "_view_module": "@jupyter-widgets/controls",
            "_model_module_version": "1.5.0",
            "_view_count": null,
            "_view_module_version": "1.5.0",
            "box_style": "",
            "layout": "IPY_MODEL_761cd19b0627448193d9a2e54861cb3e",
            "_model_module": "@jupyter-widgets/controls",
            "children": [
              "IPY_MODEL_3208fb5143fc47d1a41f7fb18875a8fa",
              "IPY_MODEL_a00845f827b34e399151d7e79463e6b6"
            ]
          }
        },
        "761cd19b0627448193d9a2e54861cb3e": {
          "model_module": "@jupyter-widgets/base",
          "model_name": "LayoutModel",
          "state": {
            "_view_name": "LayoutView",
            "grid_template_rows": null,
            "right": null,
            "justify_content": null,
            "_view_module": "@jupyter-widgets/base",
            "overflow": null,
            "_model_module_version": "1.2.0",
            "_view_count": null,
            "flex_flow": null,
            "width": null,
            "min_width": null,
            "border": null,
            "align_items": null,
            "bottom": null,
            "_model_module": "@jupyter-widgets/base",
            "top": null,
            "grid_column": null,
            "overflow_y": null,
            "overflow_x": null,
            "grid_auto_flow": null,
            "grid_area": null,
            "grid_template_columns": null,
            "flex": null,
            "_model_name": "LayoutModel",
            "justify_items": null,
            "grid_row": null,
            "max_height": null,
            "align_content": null,
            "visibility": null,
            "align_self": null,
            "height": null,
            "min_height": null,
            "padding": null,
            "grid_auto_rows": null,
            "grid_gap": null,
            "max_width": null,
            "order": null,
            "_view_module_version": "1.2.0",
            "grid_template_areas": null,
            "object_position": null,
            "object_fit": null,
            "grid_auto_columns": null,
            "margin": null,
            "display": null,
            "left": null
          }
        },
        "3208fb5143fc47d1a41f7fb18875a8fa": {
          "model_module": "@jupyter-widgets/controls",
          "model_name": "FloatProgressModel",
          "state": {
            "_view_name": "ProgressView",
            "style": "IPY_MODEL_81797d123d9a4aba88a38cea12337103",
            "_dom_classes": [],
            "description": "100%",
            "_model_name": "FloatProgressModel",
            "bar_style": "success",
            "max": 100001,
            "_view_module": "@jupyter-widgets/controls",
            "_model_module_version": "1.5.0",
            "value": 100001,
            "_view_count": null,
            "_view_module_version": "1.5.0",
            "orientation": "horizontal",
            "min": 0,
            "description_tooltip": null,
            "_model_module": "@jupyter-widgets/controls",
            "layout": "IPY_MODEL_4050d9e0826e4451aceb7e6a774fcddd"
          }
        },
        "a00845f827b34e399151d7e79463e6b6": {
          "model_module": "@jupyter-widgets/controls",
          "model_name": "HTMLModel",
          "state": {
            "_view_name": "HTMLView",
            "style": "IPY_MODEL_d6a08cfb40684c11b57af155c1561a91",
            "_dom_classes": [],
            "description": "",
            "_model_name": "HTMLModel",
            "placeholder": "​",
            "_view_module": "@jupyter-widgets/controls",
            "_model_module_version": "1.5.0",
            "value": " 100001/100001 [06:57&lt;00:00, 239.66it/s]",
            "_view_count": null,
            "_view_module_version": "1.5.0",
            "description_tooltip": null,
            "_model_module": "@jupyter-widgets/controls",
            "layout": "IPY_MODEL_63f27c37855242e8b67ef23273a340e1"
          }
        },
        "81797d123d9a4aba88a38cea12337103": {
          "model_module": "@jupyter-widgets/controls",
          "model_name": "ProgressStyleModel",
          "state": {
            "_view_name": "StyleView",
            "_model_name": "ProgressStyleModel",
            "description_width": "initial",
            "_view_module": "@jupyter-widgets/base",
            "_model_module_version": "1.5.0",
            "_view_count": null,
            "_view_module_version": "1.2.0",
            "bar_color": null,
            "_model_module": "@jupyter-widgets/controls"
          }
        },
        "4050d9e0826e4451aceb7e6a774fcddd": {
          "model_module": "@jupyter-widgets/base",
          "model_name": "LayoutModel",
          "state": {
            "_view_name": "LayoutView",
            "grid_template_rows": null,
            "right": null,
            "justify_content": null,
            "_view_module": "@jupyter-widgets/base",
            "overflow": null,
            "_model_module_version": "1.2.0",
            "_view_count": null,
            "flex_flow": null,
            "width": null,
            "min_width": null,
            "border": null,
            "align_items": null,
            "bottom": null,
            "_model_module": "@jupyter-widgets/base",
            "top": null,
            "grid_column": null,
            "overflow_y": null,
            "overflow_x": null,
            "grid_auto_flow": null,
            "grid_area": null,
            "grid_template_columns": null,
            "flex": null,
            "_model_name": "LayoutModel",
            "justify_items": null,
            "grid_row": null,
            "max_height": null,
            "align_content": null,
            "visibility": null,
            "align_self": null,
            "height": null,
            "min_height": null,
            "padding": null,
            "grid_auto_rows": null,
            "grid_gap": null,
            "max_width": null,
            "order": null,
            "_view_module_version": "1.2.0",
            "grid_template_areas": null,
            "object_position": null,
            "object_fit": null,
            "grid_auto_columns": null,
            "margin": null,
            "display": null,
            "left": null
          }
        },
        "d6a08cfb40684c11b57af155c1561a91": {
          "model_module": "@jupyter-widgets/controls",
          "model_name": "DescriptionStyleModel",
          "state": {
            "_view_name": "StyleView",
            "_model_name": "DescriptionStyleModel",
            "description_width": "",
            "_view_module": "@jupyter-widgets/base",
            "_model_module_version": "1.5.0",
            "_view_count": null,
            "_view_module_version": "1.2.0",
            "_model_module": "@jupyter-widgets/controls"
          }
        },
        "63f27c37855242e8b67ef23273a340e1": {
          "model_module": "@jupyter-widgets/base",
          "model_name": "LayoutModel",
          "state": {
            "_view_name": "LayoutView",
            "grid_template_rows": null,
            "right": null,
            "justify_content": null,
            "_view_module": "@jupyter-widgets/base",
            "overflow": null,
            "_model_module_version": "1.2.0",
            "_view_count": null,
            "flex_flow": null,
            "width": null,
            "min_width": null,
            "border": null,
            "align_items": null,
            "bottom": null,
            "_model_module": "@jupyter-widgets/base",
            "top": null,
            "grid_column": null,
            "overflow_y": null,
            "overflow_x": null,
            "grid_auto_flow": null,
            "grid_area": null,
            "grid_template_columns": null,
            "flex": null,
            "_model_name": "LayoutModel",
            "justify_items": null,
            "grid_row": null,
            "max_height": null,
            "align_content": null,
            "visibility": null,
            "align_self": null,
            "height": null,
            "min_height": null,
            "padding": null,
            "grid_auto_rows": null,
            "grid_gap": null,
            "max_width": null,
            "order": null,
            "_view_module_version": "1.2.0",
            "grid_template_areas": null,
            "object_position": null,
            "object_fit": null,
            "grid_auto_columns": null,
            "margin": null,
            "display": null,
            "left": null
          }
        }
      }
    }
  },
  "cells": [
    {
      "cell_type": "markdown",
      "metadata": {
        "id": "view-in-github",
        "colab_type": "text"
      },
      "source": [
        "<a href=\"https://colab.research.google.com/github/BelousovIM/Projects/blob/main/Mountain_car.ipynb\" target=\"_parent\"><img src=\"https://colab.research.google.com/assets/colab-badge.svg\" alt=\"Open In Colab\"/></a>"
      ]
    },
    {
      "cell_type": "code",
      "metadata": {
        "id": "GUk2p3lfg6Ut"
      },
      "source": [
        "import copy\n",
        "import gym\n",
        "import torch.nn as nn\n",
        "import torch\n",
        "from torch import optim\n",
        "import random\n",
        "import torch.nn.functional as F\n",
        "import matplotlib.pyplot as plt\n",
        "import numpy as np\n",
        "from tqdm import tqdm, tqdm_notebook\n",
        "import pandas as pd"
      ],
      "execution_count": 1,
      "outputs": []
    },
    {
      "cell_type": "code",
      "metadata": {
        "id": "4dsnkKpNinH-"
      },
      "source": [
        "def create_new_model():\n",
        "    model = nn.Sequential(\n",
        "        nn.Linear(2, 32),\n",
        "        nn.ReLU(),\n",
        "        nn.Linear(32, 32),\n",
        "        nn.ReLU(),\n",
        "        nn.Linear(32, 3)\n",
        "    )\n",
        "    target_model = copy.deepcopy(model)\n",
        "\n",
        "    model.to(device)\n",
        "    target_model.to(device)\n",
        "    \n",
        "    optimizer = optim.Adam(model.parameters(), lr=0.00003)\n",
        "    \n",
        "    return model, target_model, optimizer"
      ],
      "execution_count": 2,
      "outputs": []
    },
    {
      "cell_type": "code",
      "metadata": {
        "id": "VPY690vXjNcA"
      },
      "source": [
        "def fit(batch, model, target_model, optimizer):\n",
        "    state, action, reward, next_state, done = batch\n",
        "\n",
        "    state = torch.tensor(state).to(device).float()\n",
        "    next_state = torch.tensor(next_state).to(device).float()\n",
        "    reward = torch.tensor(reward).to(device).float()\n",
        "    action = torch.tensor(action).to(device)\n",
        "\n",
        "    target_q = torch.zeros(reward.size()[0]).float().to(device)\n",
        "\n",
        "    with torch.no_grad():\n",
        "        target_q[done] = target_model(next_state).max(1)[0].detach()\n",
        "    target_q = reward + target_q * gamma\n",
        "\n",
        "    q = model(state).gather(1, action.unsqueeze(1))\n",
        "\n",
        "    loss = F.mse_loss(q, target_q.unsqueeze(1))\n",
        "\n",
        "    optimizer.zero_grad()\n",
        "    loss.backward()\n",
        "    for param in model.parameters():\n",
        "        param.grad.data.clamp_(-1, 1)\n",
        "    optimizer.step()"
      ],
      "execution_count": 3,
      "outputs": []
    },
    {
      "cell_type": "code",
      "metadata": {
        "id": "G36nSO1IlRcT"
      },
      "source": [
        "def select_action(state, epsilon, model):\n",
        "    if random.random() < epsilon:\n",
        "        return random.randint(0, 2)\n",
        "    return model(torch.tensor(state).to(device).float().unsqueeze(0))[0].max(0)[1].view(1, 1).item()"
      ],
      "execution_count": 4,
      "outputs": []
    },
    {
      "cell_type": "code",
      "metadata": {
        "id": "H7XzRRNglbK_"
      },
      "source": [
        "class Memory:\n",
        "    def __init__(self, capacity):\n",
        "        self.capacity = capacity\n",
        "        self.memory = []\n",
        "        self.position = 0\n",
        "\n",
        "    def push(self, element):\n",
        "        if len(self.memory) < self.capacity:\n",
        "            self.memory.append(None)\n",
        "        self.memory[self.position] = element\n",
        "        self.position = (self.position + 1) % self.capacity\n",
        "\n",
        "    def sample(self, batch_size):\n",
        "        return list(zip(*random.sample(self.memory, batch_size)))\n",
        "    \n",
        "    def __len__(self):\n",
        "        return len(self.memory)"
      ],
      "execution_count": 5,
      "outputs": []
    },
    {
      "cell_type": "code",
      "metadata": {
        "id": "ZLNhVTmslR7M"
      },
      "source": [
        "def train(env):\n",
        "      memory = Memory(5000)\n",
        "      model, target_model, optimizer = create_new_model()\n",
        "      state = env.reset()\n",
        "      rewards_by_target_updates = []\n",
        "\n",
        "      for step in tqdm_notebook(range(max_steps)):\n",
        "        epsilon = max_epsilon - (max_epsilon - min_epsilon) * step / max_steps\n",
        "        action = select_action(state, epsilon, model)\n",
        "        new_state, reward, done, _ = env.step(action)\n",
        "        # modified_reward = reward \n",
        "        # modified_reward = reward + 10 * abs(new_state[1])\n",
        "        modified_reward = reward + 300 * (gamma * abs(new_state[1]) - abs(state[1]))\n",
        "\n",
        "        memory.push((state, action, modified_reward, new_state, done))\n",
        "        if done:\n",
        "            state = env.reset()\n",
        "            done = False\n",
        "        else:\n",
        "            state = new_state\n",
        "\n",
        "        if step > batch_size:\n",
        "            fit(memory.sample(batch_size), model, target_model, optimizer)\n",
        "\n",
        "        if step % target_update == 0:\n",
        "            target_model = copy.deepcopy(model)\n",
        "\n",
        "            state = env.reset()\n",
        "            total_reward = 0\n",
        "            while not done:\n",
        "                action = select_action(state, 0, model)\n",
        "                state, reward, done, _ = env.step(action)\n",
        "                total_reward += reward\n",
        "\n",
        "            done = False\n",
        "            state = env.reset()\n",
        "            rewards_by_target_updates.append(total_reward)\n",
        "      plt.plot(rewards_by_target_updates)"
      ],
      "execution_count": 6,
      "outputs": []
    },
    {
      "cell_type": "code",
      "metadata": {
        "colab": {
          "base_uri": "https://localhost:8080/",
          "height": 367,
          "referenced_widgets": [
            "5facd63b575941efade656c5d1605565",
            "761cd19b0627448193d9a2e54861cb3e",
            "3208fb5143fc47d1a41f7fb18875a8fa",
            "a00845f827b34e399151d7e79463e6b6",
            "81797d123d9a4aba88a38cea12337103",
            "4050d9e0826e4451aceb7e6a774fcddd",
            "d6a08cfb40684c11b57af155c1561a91",
            "63f27c37855242e8b67ef23273a340e1"
          ]
        },
        "id": "Kga7D5_CmGJy",
        "outputId": "b6ce1fb4-da31-4523-9031-38f8b9bd15e0"
      },
      "source": [
        "env = gym.make(\"MountainCar-v0\")\n",
        "\n",
        "device = torch.device(\"cuda\")\n",
        "\n",
        "target_update = 1000\n",
        "batch_size = 128\n",
        "max_epsilon = 0.5\n",
        "min_epsilon = 0.1\n",
        "\n",
        "max_steps = 100000 + 1\n",
        "\n",
        "gamma = 0.99\n",
        "\n",
        "train(env)"
      ],
      "execution_count": 8,
      "outputs": [
        {
          "output_type": "stream",
          "text": [
            "/usr/local/lib/python3.7/dist-packages/ipykernel_launcher.py:7: TqdmDeprecationWarning: This function will be removed in tqdm==5.0.0\n",
            "Please use `tqdm.notebook.tqdm` instead of `tqdm.tqdm_notebook`\n",
            "  import sys\n"
          ],
          "name": "stderr"
        },
        {
          "output_type": "display_data",
          "data": {
            "application/vnd.jupyter.widget-view+json": {
              "model_id": "5facd63b575941efade656c5d1605565",
              "version_minor": 0,
              "version_major": 2
            },
            "text/plain": [
              "HBox(children=(FloatProgress(value=0.0, max=100001.0), HTML(value='')))"
            ]
          },
          "metadata": {
            "tags": []
          }
        },
        {
          "output_type": "stream",
          "text": [
            "\n"
          ],
          "name": "stdout"
        },
        {
          "output_type": "display_data",
          "data": {
            "image/png": "[encoded data removed]",
            "text/plain": [
              "<Figure size 432x288 with 1 Axes>"
            ]
          },
          "metadata": {
            "tags": [],
            "needs_background": "light"
          }
        }
      ]
    }
  ]
}